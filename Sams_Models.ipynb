{
 "cells": [
  {
   "cell_type": "code",
   "execution_count": 99,
   "id": "c6f7f09e",
   "metadata": {},
   "outputs": [],
   "source": [
    "import pandas as pd\n",
    "import numpy as np\n",
    "import re\n",
    "import matplotlib.pyplot as plt\n",
    "import seaborn as sns\n",
    "from nltk import wordpunct_tokenize, word_tokenize, sent_tokenize\n",
    "from nltk.corpus import stopwords\n",
    "from nltk.stem import PorterStemmer\n",
    "from nltk.stem import WordNetLemmatizer\n",
    "from sklearn.feature_extraction.text import CountVectorizer\n",
    "from sklearn.feature_extraction.text import TfidfVectorizer\n",
    "from sklearn.preprocessing import OneHotEncoder, MinMaxScaler\n",
    "from sklearn.ensemble import BaggingClassifier, RandomForestClassifier\n",
    "from sklearn.model_selection import cross_val_score, train_test_split\n",
    "from sklearn.tree import DecisionTreeClassifier\n",
    "from sklearn import metrics\n",
    "from sklearn.pipeline import Pipeline, FeatureUnion\n",
    "from sklearn.impute import SimpleImputer\n",
    "from sklearn.compose import ColumnTransformer\n",
    "from sklearn.feature_extraction.text import CountVectorizer\n",
    "from sklearn.naive_bayes import MultinomialNB, GaussianNB\n",
    "from sklearn.neighbors import KNeighborsClassifier\n",
    "from sklearn.linear_model import LogisticRegression\n",
    "from sklearn.metrics import confusion_matrix, roc_auc_score, roc_curve\n",
    "from sklearn import metrics\n",
    "from sklearn.linear_model import LogisticRegression\n",
    "from sklearn.ensemble import RandomForestClassifier\n",
    "from sklearn.ensemble import GradientBoostingClassifier"
   ]
  },
  {
   "cell_type": "code",
   "execution_count": 56,
   "id": "26d63a4e",
   "metadata": {},
   "outputs": [],
   "source": [
    "# Reading in the data\n",
    "\n",
    "Combined_Lyrics = pd.read_csv('Combined_Lyrics.csv')"
   ]
  },
  {
   "cell_type": "code",
   "execution_count": 57,
   "id": "0ce1a53c",
   "metadata": {},
   "outputs": [],
   "source": [
    "# Creating a list of stop words, creating a lemmatizer\n",
    "\n",
    "sw = stopwords.words('english')\n",
    "wn = WordNetLemmatizer()"
   ]
  },
  {
   "cell_type": "code",
   "execution_count": 58,
   "id": "e848409e",
   "metadata": {},
   "outputs": [],
   "source": [
    "# Vectorizing lyrics data\n",
    "\n",
    "cv = CountVectorizer(stop_words=sw, min_df=50)\n",
    "X_cv = cv.fit_transform(Combined_Lyrics['Lyrics'])"
   ]
  },
  {
   "cell_type": "code",
   "execution_count": 59,
   "id": "2d3ef2db",
   "metadata": {},
   "outputs": [],
   "source": [
    "# Converting the vectorized lyrics object to a dataframe\n",
    "Vectorized_df = pd.DataFrame(X_cv.toarray(), columns = cv.get_feature_names())\n",
    "# Appending on Artist and Genre\n",
    "Vectorized_df = pd.concat([Vectorized_df, Combined_Lyrics[['Artist','Genre']]], axis = 1)\n",
    "# Reordering the columns\n",
    "cols_to_move = ['Artist', 'Genre']\n",
    "Vectorized_df = Vectorized_df[ cols_to_move + [ col for col in Vectorized_df.columns if col not in cols_to_move ] ]"
   ]
  },
  {
   "cell_type": "code",
   "execution_count": 60,
   "id": "e075dc2e",
   "metadata": {},
   "outputs": [],
   "source": [
    "# Tfid Vectorzing lyrics data\n",
    "\n",
    "tf = TfidfVectorizer(max_df = 0.95, min_df = 50)\n",
    "X_tf = tf.fit_transform(Combined_Lyrics['Lyrics'])"
   ]
  },
  {
   "cell_type": "code",
   "execution_count": 61,
   "id": "2b162564",
   "metadata": {},
   "outputs": [],
   "source": [
    "# Converting tfid lyrics to object to a dataframe\n",
    "Tfid_df = pd.DataFrame(X_tf.toarray(), columns=tf.get_feature_names())\n",
    "Tfid_df = pd.concat([Tfid_df, Combined_Lyrics[['Artist','Genre']]], axis = 1)\n",
    "# Reordering the columns\n",
    "cols_to_move = ['Artist', 'Genre']\n",
    "Tfid_df = Tfid_df[ cols_to_move + [ col for col in Tfid_df.columns if col not in cols_to_move ] ]"
   ]
  },
  {
   "cell_type": "code",
   "execution_count": 62,
   "id": "1d5af7bb",
   "metadata": {},
   "outputs": [],
   "source": [
    "#split data in to x and y\n",
    "\n",
    "y = Vectorized_df['Genre']\n",
    "# text = df['review'].values.astype('U')\n",
    "text = Vectorized_df.drop(['Genre','Artist'], axis = 1)"
   ]
  },
  {
   "cell_type": "code",
   "execution_count": 63,
   "id": "324ea2a8",
   "metadata": {},
   "outputs": [],
   "source": [
    "#make train and test\n",
    "text_train, text_test, y_train, y_test = train_test_split(text,y, stratify = y, random_state=117, test_size=.4)"
   ]
  },
  {
   "cell_type": "code",
   "execution_count": 64,
   "id": "c1db6048",
   "metadata": {},
   "outputs": [
    {
     "data": {
      "text/html": [
       "<div>\n",
       "<style scoped>\n",
       "    .dataframe tbody tr th:only-of-type {\n",
       "        vertical-align: middle;\n",
       "    }\n",
       "\n",
       "    .dataframe tbody tr th {\n",
       "        vertical-align: top;\n",
       "    }\n",
       "\n",
       "    .dataframe thead th {\n",
       "        text-align: right;\n",
       "    }\n",
       "</style>\n",
       "<table border=\"1\" class=\"dataframe\">\n",
       "  <thead>\n",
       "    <tr style=\"text-align: right;\">\n",
       "      <th></th>\n",
       "      <th>10</th>\n",
       "      <th>100</th>\n",
       "      <th>11</th>\n",
       "      <th>12</th>\n",
       "      <th>1embedshare</th>\n",
       "      <th>20</th>\n",
       "      <th>24</th>\n",
       "      <th>2embedshare</th>\n",
       "      <th>30</th>\n",
       "      <th>3embedshare</th>\n",
       "      <th>...</th>\n",
       "      <th>yo</th>\n",
       "      <th>york</th>\n",
       "      <th>youembedshare</th>\n",
       "      <th>young</th>\n",
       "      <th>younger</th>\n",
       "      <th>youth</th>\n",
       "      <th>yuh</th>\n",
       "      <th>yup</th>\n",
       "      <th>zero</th>\n",
       "      <th>zone</th>\n",
       "    </tr>\n",
       "  </thead>\n",
       "  <tbody>\n",
       "    <tr>\n",
       "      <th>563</th>\n",
       "      <td>0</td>\n",
       "      <td>0</td>\n",
       "      <td>0</td>\n",
       "      <td>0</td>\n",
       "      <td>0</td>\n",
       "      <td>0</td>\n",
       "      <td>0</td>\n",
       "      <td>0</td>\n",
       "      <td>0</td>\n",
       "      <td>0</td>\n",
       "      <td>...</td>\n",
       "      <td>0</td>\n",
       "      <td>0</td>\n",
       "      <td>0</td>\n",
       "      <td>0</td>\n",
       "      <td>0</td>\n",
       "      <td>0</td>\n",
       "      <td>0</td>\n",
       "      <td>0</td>\n",
       "      <td>0</td>\n",
       "      <td>0</td>\n",
       "    </tr>\n",
       "    <tr>\n",
       "      <th>9433</th>\n",
       "      <td>0</td>\n",
       "      <td>0</td>\n",
       "      <td>0</td>\n",
       "      <td>0</td>\n",
       "      <td>0</td>\n",
       "      <td>0</td>\n",
       "      <td>0</td>\n",
       "      <td>0</td>\n",
       "      <td>0</td>\n",
       "      <td>0</td>\n",
       "      <td>...</td>\n",
       "      <td>4</td>\n",
       "      <td>0</td>\n",
       "      <td>0</td>\n",
       "      <td>0</td>\n",
       "      <td>0</td>\n",
       "      <td>0</td>\n",
       "      <td>0</td>\n",
       "      <td>0</td>\n",
       "      <td>0</td>\n",
       "      <td>0</td>\n",
       "    </tr>\n",
       "    <tr>\n",
       "      <th>2117</th>\n",
       "      <td>0</td>\n",
       "      <td>0</td>\n",
       "      <td>0</td>\n",
       "      <td>0</td>\n",
       "      <td>0</td>\n",
       "      <td>0</td>\n",
       "      <td>0</td>\n",
       "      <td>0</td>\n",
       "      <td>0</td>\n",
       "      <td>0</td>\n",
       "      <td>...</td>\n",
       "      <td>0</td>\n",
       "      <td>0</td>\n",
       "      <td>0</td>\n",
       "      <td>0</td>\n",
       "      <td>0</td>\n",
       "      <td>0</td>\n",
       "      <td>0</td>\n",
       "      <td>0</td>\n",
       "      <td>0</td>\n",
       "      <td>0</td>\n",
       "    </tr>\n",
       "    <tr>\n",
       "      <th>8347</th>\n",
       "      <td>0</td>\n",
       "      <td>0</td>\n",
       "      <td>0</td>\n",
       "      <td>0</td>\n",
       "      <td>0</td>\n",
       "      <td>0</td>\n",
       "      <td>0</td>\n",
       "      <td>0</td>\n",
       "      <td>0</td>\n",
       "      <td>0</td>\n",
       "      <td>...</td>\n",
       "      <td>0</td>\n",
       "      <td>0</td>\n",
       "      <td>0</td>\n",
       "      <td>0</td>\n",
       "      <td>0</td>\n",
       "      <td>0</td>\n",
       "      <td>0</td>\n",
       "      <td>0</td>\n",
       "      <td>0</td>\n",
       "      <td>0</td>\n",
       "    </tr>\n",
       "    <tr>\n",
       "      <th>4389</th>\n",
       "      <td>0</td>\n",
       "      <td>0</td>\n",
       "      <td>0</td>\n",
       "      <td>0</td>\n",
       "      <td>0</td>\n",
       "      <td>0</td>\n",
       "      <td>0</td>\n",
       "      <td>0</td>\n",
       "      <td>0</td>\n",
       "      <td>0</td>\n",
       "      <td>...</td>\n",
       "      <td>0</td>\n",
       "      <td>0</td>\n",
       "      <td>0</td>\n",
       "      <td>0</td>\n",
       "      <td>0</td>\n",
       "      <td>0</td>\n",
       "      <td>0</td>\n",
       "      <td>0</td>\n",
       "      <td>0</td>\n",
       "      <td>0</td>\n",
       "    </tr>\n",
       "    <tr>\n",
       "      <th>...</th>\n",
       "      <td>...</td>\n",
       "      <td>...</td>\n",
       "      <td>...</td>\n",
       "      <td>...</td>\n",
       "      <td>...</td>\n",
       "      <td>...</td>\n",
       "      <td>...</td>\n",
       "      <td>...</td>\n",
       "      <td>...</td>\n",
       "      <td>...</td>\n",
       "      <td>...</td>\n",
       "      <td>...</td>\n",
       "      <td>...</td>\n",
       "      <td>...</td>\n",
       "      <td>...</td>\n",
       "      <td>...</td>\n",
       "      <td>...</td>\n",
       "      <td>...</td>\n",
       "      <td>...</td>\n",
       "      <td>...</td>\n",
       "      <td>...</td>\n",
       "    </tr>\n",
       "    <tr>\n",
       "      <th>4273</th>\n",
       "      <td>0</td>\n",
       "      <td>0</td>\n",
       "      <td>0</td>\n",
       "      <td>0</td>\n",
       "      <td>0</td>\n",
       "      <td>0</td>\n",
       "      <td>0</td>\n",
       "      <td>0</td>\n",
       "      <td>0</td>\n",
       "      <td>0</td>\n",
       "      <td>...</td>\n",
       "      <td>0</td>\n",
       "      <td>0</td>\n",
       "      <td>0</td>\n",
       "      <td>0</td>\n",
       "      <td>0</td>\n",
       "      <td>0</td>\n",
       "      <td>0</td>\n",
       "      <td>0</td>\n",
       "      <td>0</td>\n",
       "      <td>0</td>\n",
       "    </tr>\n",
       "    <tr>\n",
       "      <th>3950</th>\n",
       "      <td>0</td>\n",
       "      <td>0</td>\n",
       "      <td>0</td>\n",
       "      <td>0</td>\n",
       "      <td>0</td>\n",
       "      <td>0</td>\n",
       "      <td>0</td>\n",
       "      <td>0</td>\n",
       "      <td>0</td>\n",
       "      <td>0</td>\n",
       "      <td>...</td>\n",
       "      <td>0</td>\n",
       "      <td>0</td>\n",
       "      <td>0</td>\n",
       "      <td>0</td>\n",
       "      <td>0</td>\n",
       "      <td>0</td>\n",
       "      <td>0</td>\n",
       "      <td>0</td>\n",
       "      <td>0</td>\n",
       "      <td>0</td>\n",
       "    </tr>\n",
       "    <tr>\n",
       "      <th>6325</th>\n",
       "      <td>0</td>\n",
       "      <td>0</td>\n",
       "      <td>0</td>\n",
       "      <td>1</td>\n",
       "      <td>0</td>\n",
       "      <td>0</td>\n",
       "      <td>0</td>\n",
       "      <td>0</td>\n",
       "      <td>0</td>\n",
       "      <td>0</td>\n",
       "      <td>...</td>\n",
       "      <td>1</td>\n",
       "      <td>0</td>\n",
       "      <td>0</td>\n",
       "      <td>0</td>\n",
       "      <td>0</td>\n",
       "      <td>0</td>\n",
       "      <td>14</td>\n",
       "      <td>0</td>\n",
       "      <td>0</td>\n",
       "      <td>0</td>\n",
       "    </tr>\n",
       "    <tr>\n",
       "      <th>11133</th>\n",
       "      <td>0</td>\n",
       "      <td>0</td>\n",
       "      <td>0</td>\n",
       "      <td>0</td>\n",
       "      <td>0</td>\n",
       "      <td>0</td>\n",
       "      <td>0</td>\n",
       "      <td>0</td>\n",
       "      <td>0</td>\n",
       "      <td>0</td>\n",
       "      <td>...</td>\n",
       "      <td>0</td>\n",
       "      <td>0</td>\n",
       "      <td>0</td>\n",
       "      <td>0</td>\n",
       "      <td>0</td>\n",
       "      <td>0</td>\n",
       "      <td>0</td>\n",
       "      <td>0</td>\n",
       "      <td>0</td>\n",
       "      <td>0</td>\n",
       "    </tr>\n",
       "    <tr>\n",
       "      <th>4878</th>\n",
       "      <td>0</td>\n",
       "      <td>0</td>\n",
       "      <td>0</td>\n",
       "      <td>0</td>\n",
       "      <td>0</td>\n",
       "      <td>0</td>\n",
       "      <td>0</td>\n",
       "      <td>0</td>\n",
       "      <td>0</td>\n",
       "      <td>0</td>\n",
       "      <td>...</td>\n",
       "      <td>0</td>\n",
       "      <td>0</td>\n",
       "      <td>0</td>\n",
       "      <td>0</td>\n",
       "      <td>1</td>\n",
       "      <td>0</td>\n",
       "      <td>0</td>\n",
       "      <td>0</td>\n",
       "      <td>0</td>\n",
       "      <td>0</td>\n",
       "    </tr>\n",
       "  </tbody>\n",
       "</table>\n",
       "<p>7220 rows × 2603 columns</p>\n",
       "</div>"
      ],
      "text/plain": [
       "       10  100  11  12  1embedshare  20  24  2embedshare  30  3embedshare  \\\n",
       "563     0    0   0   0            0   0   0            0   0            0   \n",
       "9433    0    0   0   0            0   0   0            0   0            0   \n",
       "2117    0    0   0   0            0   0   0            0   0            0   \n",
       "8347    0    0   0   0            0   0   0            0   0            0   \n",
       "4389    0    0   0   0            0   0   0            0   0            0   \n",
       "...    ..  ...  ..  ..          ...  ..  ..          ...  ..          ...   \n",
       "4273    0    0   0   0            0   0   0            0   0            0   \n",
       "3950    0    0   0   0            0   0   0            0   0            0   \n",
       "6325    0    0   0   1            0   0   0            0   0            0   \n",
       "11133   0    0   0   0            0   0   0            0   0            0   \n",
       "4878    0    0   0   0            0   0   0            0   0            0   \n",
       "\n",
       "       ...  yo  york  youembedshare  young  younger  youth  yuh  yup  zero  \\\n",
       "563    ...   0     0              0      0        0      0    0    0     0   \n",
       "9433   ...   4     0              0      0        0      0    0    0     0   \n",
       "2117   ...   0     0              0      0        0      0    0    0     0   \n",
       "8347   ...   0     0              0      0        0      0    0    0     0   \n",
       "4389   ...   0     0              0      0        0      0    0    0     0   \n",
       "...    ...  ..   ...            ...    ...      ...    ...  ...  ...   ...   \n",
       "4273   ...   0     0              0      0        0      0    0    0     0   \n",
       "3950   ...   0     0              0      0        0      0    0    0     0   \n",
       "6325   ...   1     0              0      0        0      0   14    0     0   \n",
       "11133  ...   0     0              0      0        0      0    0    0     0   \n",
       "4878   ...   0     0              0      0        1      0    0    0     0   \n",
       "\n",
       "       zone  \n",
       "563       0  \n",
       "9433      0  \n",
       "2117      0  \n",
       "8347      0  \n",
       "4389      0  \n",
       "...     ...  \n",
       "4273      0  \n",
       "3950      0  \n",
       "6325      0  \n",
       "11133     0  \n",
       "4878      0  \n",
       "\n",
       "[7220 rows x 2603 columns]"
      ]
     },
     "execution_count": 64,
     "metadata": {},
     "output_type": "execute_result"
    }
   ],
   "source": [
    "text_train"
   ]
  },
  {
   "cell_type": "markdown",
   "id": "fc6bcb20",
   "metadata": {},
   "source": [
    "### Naive Bayes"
   ]
  },
  {
   "cell_type": "code",
   "execution_count": 72,
   "id": "7e0d48d4",
   "metadata": {},
   "outputs": [
    {
     "name": "stdout",
     "output_type": "stream",
     "text": [
      "[[671  53  18  98 128]\n",
      " [ 72 193  22 126 107]\n",
      " [ 20  60 903  62  15]\n",
      " [ 63 115  52 538 187]\n",
      " [181  89  24 237 780]]\n",
      "[0.69318182 0.37115385 0.85188679 0.56335079 0.59496568]\n",
      "0.6408392189447445\n",
      "              precision    recall  f1-score   support\n",
      "\n",
      "     Country       0.67      0.69      0.68       968\n",
      "         Pop       0.38      0.37      0.37       520\n",
      "         Rap       0.89      0.85      0.87      1060\n",
      "         RnB       0.51      0.56      0.53       955\n",
      "        Rock       0.64      0.59      0.62      1311\n",
      "\n",
      "    accuracy                           0.64      4814\n",
      "   macro avg       0.62      0.61      0.61      4814\n",
      "weighted avg       0.65      0.64      0.64      4814\n",
      "\n"
     ]
    },
    {
     "data": {
      "text/plain": [
       "0.97"
      ]
     },
     "execution_count": 72,
     "metadata": {},
     "output_type": "execute_result"
    }
   ],
   "source": [
    "nb = MultinomialNB()\n",
    "nb.fit(text_train, y_train)\n",
    "y_hat = nb.predict(text_test)\n",
    "y_hat[0:3]\n",
    "y_prob = nb.predict_proba(text_test)[:,1]\n",
    "y_prob\n",
    "matrix = confusion_matrix(y_test, y_hat)\n",
    "print(matrix.diagonal()/matrix.sum(axis = 1))\n",
    "print(metrics.accuracy_score(y_test, y_hat))\n",
    "metrics.precision_score(y_test, y_hat, average = 'weighted')\n",
    "metrics.recall_score(y_test, y_hat, average = 'weighted')\n",
    "print(metrics.classification_report(y_test, y_hat))\n",
    "# macro average of precision\n",
    "np.round((.88+.98)/2,2)\n",
    "# weighted average of precision\n",
    "np.round(((.88*224)+(.98*1448))/1672,2)\n",
    "# nb_auc = roc_auc_score(y_test, y_prob, multi_class = 'ovr')\n",
    "# fpr, tpr, thresh = roc_curve(y_test, y_prob)"
   ]
  },
  {
   "cell_type": "code",
   "execution_count": null,
   "id": "69042c45",
   "metadata": {},
   "outputs": [],
   "source": [
    "# plt.plot(fpr, tpr, color='orange', label='NB')\n",
    "# plt.plot([0, 1], [0, 1], color='darkblue', linestyle='--')\n",
    "# plt.xlabel('False Positive Rate')\n",
    "# plt.ylabel('True Positive Rate')\n",
    "# plt.title('Receiver Operating Characteristic (ROC) Curve')\n",
    "# plt.legend()"
   ]
  },
  {
   "cell_type": "markdown",
   "id": "2e17540f",
   "metadata": {},
   "source": [
    "### Linear Regression"
   ]
  },
  {
   "cell_type": "code",
   "execution_count": 66,
   "id": "860ffc1d",
   "metadata": {},
   "outputs": [
    {
     "name": "stdout",
     "output_type": "stream",
     "text": [
      "              precision    recall  f1-score   support\n",
      "\n",
      "     Country       0.64      0.67      0.66       968\n",
      "         Pop       0.30      0.24      0.26       520\n",
      "         Rap       0.89      0.87      0.88      1060\n",
      "         RnB       0.48      0.48      0.48       955\n",
      "        Rock       0.61      0.65      0.63      1311\n",
      "\n",
      "    accuracy                           0.63      4814\n",
      "   macro avg       0.59      0.58      0.58      4814\n",
      "weighted avg       0.62      0.63      0.62      4814\n",
      "\n"
     ]
    }
   ],
   "source": [
    "lr = LogisticRegression(solver='liblinear', C=1, max_iter = 1000)\n",
    "lr.fit(text_train, y_train)\n",
    "y_hat = lr.predict(text_test)\n",
    "y_hat[0:3]\n",
    "y_prob = lr.predict_proba(text_test)[:,1]\n",
    "y_prob\n",
    "confusion_matrix(y_test, y_hat)\n",
    "metrics.accuracy_score(y_test, y_hat,)\n",
    "metrics.precision_score(y_test, y_hat, average = 'weighted')\n",
    "metrics.recall_score(y_test, y_hat, average = 'weighted')\n",
    "print(metrics.classification_report(y_test, y_hat))\n",
    "# lr_auc = roc_auc_score(y_test, y_prob, average = 'weighted', multi_class = 'ovr')\n",
    "# fpr_lr, tpr_lr, thresh_lr = roc_curve(y_test, y_prob)"
   ]
  },
  {
   "cell_type": "markdown",
   "id": "8b72fe97",
   "metadata": {},
   "source": [
    "### Decision Tree "
   ]
  },
  {
   "cell_type": "code",
   "execution_count": 67,
   "id": "e2ba5cf0",
   "metadata": {},
   "outputs": [
    {
     "name": "stdout",
     "output_type": "stream",
     "text": [
      "              precision    recall  f1-score   support\n",
      "\n",
      "     Country       0.45      0.46      0.45       968\n",
      "         Pop       0.25      0.21      0.23       520\n",
      "         Rap       0.88      0.85      0.87      1060\n",
      "         RnB       0.37      0.38      0.38       955\n",
      "        Rock       0.49      0.52      0.51      1311\n",
      "\n",
      "    accuracy                           0.52      4814\n",
      "   macro avg       0.49      0.49      0.49      4814\n",
      "weighted avg       0.52      0.52      0.52      4814\n",
      "\n"
     ]
    }
   ],
   "source": [
    "clf = DecisionTreeClassifier()\n",
    "clf.fit(text_train, y_train)\n",
    "y_hat = clf.predict(text_test)\n",
    "y_hat[0:3]\n",
    "y_prob = clf.predict_proba(text_test)[:,1]\n",
    "y_prob\n",
    "confusion_matrix(y_test, y_hat)\n",
    "metrics.accuracy_score(y_test, y_hat)\n",
    "metrics.precision_score(y_test, y_hat, average = 'weighted')\n",
    "metrics.recall_score(y_test, y_hat, average = 'weighted')\n",
    "print(metrics.classification_report(y_test, y_hat))\n",
    "# clf_auc = roc_auc_score(y_test, y_prob)\n",
    "# fpr_clf, tpr_clf, thresh_clf = roc_curve(y_test, y_prob)"
   ]
  },
  {
   "cell_type": "markdown",
   "id": "2d7f23d2",
   "metadata": {},
   "source": [
    "### Random Forest"
   ]
  },
  {
   "cell_type": "code",
   "execution_count": 68,
   "id": "5c97c9ea",
   "metadata": {},
   "outputs": [
    {
     "name": "stdout",
     "output_type": "stream",
     "text": [
      "              precision    recall  f1-score   support\n",
      "\n",
      "     Country       0.69      0.61      0.65       968\n",
      "         Pop       0.53      0.04      0.08       520\n",
      "         Rap       0.87      0.95      0.91      1060\n",
      "         RnB       0.55      0.50      0.52       955\n",
      "        Rock       0.56      0.81      0.66      1311\n",
      "\n",
      "    accuracy                           0.65      4814\n",
      "   macro avg       0.64      0.58      0.56      4814\n",
      "weighted avg       0.65      0.65      0.62      4814\n",
      "\n"
     ]
    }
   ],
   "source": [
    "rf = RandomForestClassifier()\n",
    "rf.fit(text_train, y_train)\n",
    "y_hat = rf.predict(text_test)\n",
    "y_hat[0:3]\n",
    "y_prob = rf.predict_proba(text_test)[:,1]\n",
    "y_prob\n",
    "confusion_matrix(y_test, y_hat)\n",
    "metrics.accuracy_score(y_test, y_hat)\n",
    "metrics.precision_score(y_test, y_hat, average = 'weighted')\n",
    "metrics.recall_score(y_test, y_hat, average = 'weighted')\n",
    "print(metrics.classification_report(y_test, y_hat))\n",
    "# rf_auc = roc_auc_score(y_test, y_prob)\n",
    "# fpr_rf, tpr_rf, thresh_rf = roc_curve(y_test, y_prob)"
   ]
  },
  {
   "cell_type": "markdown",
   "id": "fca652d3",
   "metadata": {},
   "source": [
    "### Gradient Boost"
   ]
  },
  {
   "cell_type": "code",
   "execution_count": 69,
   "id": "a2d69488",
   "metadata": {},
   "outputs": [
    {
     "name": "stdout",
     "output_type": "stream",
     "text": [
      "              precision    recall  f1-score   support\n",
      "\n",
      "     Country       0.72      0.59      0.65       968\n",
      "         Pop       0.43      0.11      0.17       520\n",
      "         Rap       0.91      0.91      0.91      1060\n",
      "         RnB       0.54      0.51      0.52       955\n",
      "        Rock       0.56      0.81      0.66      1311\n",
      "\n",
      "    accuracy                           0.65      4814\n",
      "   macro avg       0.63      0.59      0.58      4814\n",
      "weighted avg       0.65      0.65      0.63      4814\n",
      "\n"
     ]
    }
   ],
   "source": [
    "gb = GradientBoostingClassifier()\n",
    "gb.fit(text_train, y_train)\n",
    "y_hat = gb.predict(text_test)\n",
    "y_hat[0:3]\n",
    "y_prob = gb.predict_proba(text_test)[:,1]\n",
    "y_prob\n",
    "confusion_matrix(y_test, y_hat)\n",
    "metrics.accuracy_score(y_test, y_hat)\n",
    "metrics.precision_score(y_test, y_hat, average = 'weighted')\n",
    "metrics.recall_score(y_test, y_hat, average = 'weighted')\n",
    "print(metrics.classification_report(y_test, y_hat))\n",
    "# gb_auc = roc_auc_score(y_test, y_prob)\n",
    "# fpr_gb, tpr_gb, thresh_gb = roc_curve(y_test, y_prob)"
   ]
  },
  {
   "cell_type": "code",
   "execution_count": 76,
   "id": "4a582d0a",
   "metadata": {},
   "outputs": [
    {
     "data": {
      "image/png": "[encoded data removed]",
      "text/plain": [
       "<Figure size 432x288 with 1 Axes>"
      ]
     },
     "metadata": {
      "needs_background": "light"
     },
     "output_type": "display_data"
    }
   ],
   "source": [
    "Importance = pd.DataFrame({'Importance':rf.feature_importances_*100}) #index=X_train.columns)\n",
    "Importance = Importance.iloc[rf.feature_importances_ > 0,:]\n",
    "Importance = Importance.sort_values('Importance', axis=0, ascending=True)\n",
    "Importance.plot(kind='barh', color='r', )\n",
    "plt.xlabel('Variable Importance')\n",
    "plt.gca().legend_ = None"
   ]
  },
  {
   "cell_type": "code",
   "execution_count": 103,
   "id": "6f0a4d7d",
   "metadata": {},
   "outputs": [
    {
     "data": {
      "text/plain": [
       "<AxesSubplot:xlabel='Importance'>"
      ]
     },
     "execution_count": 103,
     "metadata": {},
     "output_type": "execute_result"
    },
    {
     "data": {
      "image/png": "[encoded data removed]",
      "text/plain": [
       "<Figure size 432x288 with 1 Axes>"
      ]
     },
     "metadata": {
      "needs_background": "light"
     },
     "output_type": "display_data"
    }
   ],
   "source": [
    "Importance.sort_values('Importance', axis=0, ascending=False).head(50)\n",
    "sns.boxplot(x = Importance.sort_values('Importance', axis=0, ascending=False).Importance)"
   ]
  },
  {
   "cell_type": "code",
   "execution_count": 96,
   "id": "d932bad6",
   "metadata": {},
   "outputs": [
    {
     "data": {
      "text/plain": [
       "Index(['sweat', 'sweet', 'sweeter'], dtype='object')"
      ]
     },
     "execution_count": 96,
     "metadata": {},
     "output_type": "execute_result"
    }
   ],
   "source": [
    "Vectorized_df.columns[[1512,1513,1514]]\n",
    "Vectorized_df.columns[[883,884,885]]\n",
    "Vectorized_df.columns[[202,203,201]]\n",
    "Vectorized_df.columns[[1329,1330,1331]]\n",
    "Vectorized_df.columns[[2234,2235,2236]]"
   ]
  }
 ],
 "metadata": {
  "kernelspec": {
   "display_name": "Python 3",
   "language": "python",
   "name": "python3"
  },
  "language_info": {
   "codemirror_mode": {
    "name": "ipython",
    "version": 3
   },
   "file_extension": ".py",
   "mimetype": "text/x-python",
   "name": "python",
   "nbconvert_exporter": "python",
   "pygments_lexer": "ipython3",
   "version": "3.8.8"
  }
 },
 "nbformat": 4,
 "nbformat_minor": 5
}
