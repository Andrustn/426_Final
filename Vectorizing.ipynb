{
 "cells": [
  {
   "cell_type": "code",
   "execution_count": null,
   "id": "62f29e58",
   "metadata": {},
   "outputs": [],
   "source": [
    "import pandas as pd\n",
    "import numpy as np\n",
    "import re\n",
    "from nltk import wordpunct_tokenize, word_tokenize, sent_tokenize\n",
    "from nltk.corpus import stopwords\n",
    "from nltk.stem import PorterStemmer\n",
    "from nltk.stem import WordNetLemmatizer\n",
    "from sklearn.feature_extraction.text import CountVectorizer\n",
    "from sklearn.feature_extraction.text import TfidfVectorizer"
   ]
  },
  {
   "cell_type": "code",
   "execution_count": null,
   "id": "e205788f",
   "metadata": {},
   "outputs": [],
   "source": [
    "# Reading in the data\n",
    "\n",
    "Combined_Lyrics = pd.read_csv('Combined_Lyrics.csv')"
   ]
  },
  {
   "cell_type": "code",
   "execution_count": null,
   "id": "b57db0cd",
   "metadata": {},
   "outputs": [],
   "source": [
    "# Creating a list of stop words, creating a lemmatizer\n",
    "\n",
    "sw = stopwords.words('english')\n",
    "wn = WordNetLemmatizer()"
   ]
  },
  {
   "cell_type": "code",
   "execution_count": null,
   "id": "9a047f29",
   "metadata": {},
   "outputs": [],
   "source": [
    "# Vectorizing lyrics data\n",
    "\n",
    "cv = CountVectorizer(stop_words=sw, min_df=50)\n",
    "X = cv.fit_transform(Combined_Lyrics['Lyrics'])"
   ]
  },
  {
   "cell_type": "code",
   "execution_count": null,
   "id": "3f830fed",
   "metadata": {},
   "outputs": [],
   "source": [
    "# Converting the vectorized lyrics object to a dataframe\n",
    "Vectorized_df = pd.DataFrame(X.toarray(), columns = cv.get_feature_names())\n",
    "# Appending on Artist and Genre\n",
    "Vectorized_df = pd.concat([Vectorized_df, Combined_Lyrics[['Artist','Genre']]], axis = 1)\n",
    "# Reordering the columns\n",
    "cols_to_move = ['Artist', 'Genre']\n",
    "Vectorized_df = Vectorized_df[ cols_to_move + [ col for col in Vectorized_df.columns if col not in cols_to_move ] ]"
   ]
  },
  {
   "cell_type": "code",
   "execution_count": null,
   "id": "146e8eed",
   "metadata": {},
   "outputs": [],
   "source": [
    "# Tfid Vectorzing lyrics data\n",
    "\n",
    "tf = TfidfVectorizer(max_df = 0.95, min_df = 50)\n",
    "X = tf.fit_transform(Combined_Lyrics['Lyrics'])"
   ]
  },
  {
   "cell_type": "code",
   "execution_count": null,
   "id": "698f4f99",
   "metadata": {},
   "outputs": [],
   "source": [
    "# Converting tfid lyrics to object to a dataframe\n",
    "Tfid_df = pd.DataFrame(X.toarray(), columns=tf.get_feature_names())\n",
    "Tfid_df = pd.concat([Tfid_df, Combined_Lyrics[['Artist','Genre']]], axis = 1)\n",
    "# Reordering the columns\n",
    "cols_to_move = ['Artist', 'Genre']\n",
    "Tfid_df = Tfid_df[ cols_to_move + [ col for col in Tfid_df.columns if col not in cols_to_move ] ]"
   ]
  }
 ],
 "metadata": {
  "kernelspec": {
   "display_name": "Python 3",
   "language": "python",
   "name": "python3"
  },
  "language_info": {
   "codemirror_mode": {
    "name": "ipython",
    "version": 3
   },
   "file_extension": ".py",
   "mimetype": "text/x-python",
   "name": "python",
   "nbconvert_exporter": "python",
   "pygments_lexer": "ipython3",
   "version": "3.8.8"
  }
 },
 "nbformat": 4,
 "nbformat_minor": 5
}
